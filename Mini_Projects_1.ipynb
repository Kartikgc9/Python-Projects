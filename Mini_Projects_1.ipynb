{
  "nbformat": 4,
  "nbformat_minor": 0,
  "metadata": {
    "colab": {
      "name": "Mini_Projects 1.ipynb",
      "provenance": [],
      "authorship_tag": "ABX9TyPG2AcHwQejKUjPs+Un80kc",
      "include_colab_link": true
    },
    "kernelspec": {
      "name": "python3",
      "display_name": "Python 3"
    },
    "language_info": {
      "name": "python"
    }
  },
  "cells": [
    {
      "cell_type": "markdown",
      "metadata": {
        "id": "view-in-github",
        "colab_type": "text"
      },
      "source": [
        "<a href=\"https://colab.research.google.com/github/Raghavgarg12/Mini-Projects/blob/main/Mini_Projects_1.ipynb\" target=\"_parent\"><img src=\"https://colab.research.google.com/assets/colab-badge.svg\" alt=\"Open In Colab\"/></a>"
      ]
    },
    {
      "cell_type": "markdown",
      "source": [
        "# List Sorter"
      ],
      "metadata": {
        "id": "sc6ral_I1bZv"
      }
    },
    {
      "cell_type": "code",
      "execution_count": null,
      "metadata": {
        "id": "hNKAelAl071T"
      },
      "outputs": [],
      "source": [
        "l=['ram',1,'shyam',2,'aman',3]\n",
        "a=0\n",
        "b=0\n",
        "c=len(l)\n",
        "l1=[]\n",
        "l2=[]\n",
        "for i in l:\n",
        "  try:\n",
        "    l1.append(int(i))\n",
        "  except:\n",
        "    l2.append(i)\n",
        "l1.sort()\n",
        "l2.sort()\n",
        "l3=l1+l2\n",
        "print(l3)    "
      ]
    },
    {
      "cell_type": "markdown",
      "source": [
        "# Subset Selection"
      ],
      "metadata": {
        "id": "3pMSkM841iEv"
      }
    },
    {
      "cell_type": "code",
      "source": [
        "import random as r\n",
        "Set={-12, -3, -6, 7, 2, -2, 6, 3, 9, -7, -5, -8, 1, 11, -9, -4}\n",
        "a=0\n",
        "result=set()\n",
        "for i in range(0,1000):\n",
        "  L=r.sample(Set,5)\n",
        "  L.sort()\n",
        "  if sum(L)==0:\n",
        "    print(L)\n",
        "    result.add(tuple(L))\n",
        "    a=a+1\n",
        "print(a)    "
      ],
      "metadata": {
        "id": "QHpNafer1k_N"
      },
      "execution_count": null,
      "outputs": []
    },
    {
      "cell_type": "markdown",
      "source": [
        "# Combo Finder"
      ],
      "metadata": {
        "id": "8tv8JxP71pHE"
      }
    },
    {
      "cell_type": "code",
      "source": [
        "import random as r\n",
        "ProductList = {'p1':10, 'p2':15, 'p3':20, 'p4':25, 'p5':30, 'p6':35, 'p7':50,'p8':40, 'p9':55, 'p10':60, 'p11':65, 'p12':75, 'p13':70,'p14':45}\n",
        "ResultList  = set()\n",
        "Iterations=1000\n",
        "UB=510\n",
        "LB=490\n",
        "for i in range(Iterations):\n",
        "\n",
        "    # Select combo size (i.e. number of products in a combo)\n",
        "    SetSize = r.randint(2, len(ProductList)-1)\n",
        "    print (SetSize)\n",
        "\n",
        "    # Select number of elements from Set\n",
        "    ComboList = r.sample(list(ProductList.keys()),SetSize)\n",
        "    ComboList.sort()\n",
        "    print(ComboList)\n",
        "\n",
        "    # Sum the products in ComboList\n",
        "    ComboSum = sum([ ProductList[i] for i in ComboList])\n",
        "    print(ComboSum)\n",
        "    \n",
        "    # Check the Sum Between LB and UB\n",
        "    if ComboSum>= LB and ComboSum<= UB:\n",
        "      ResultList.add(tuple(ComboList))"
      ],
      "metadata": {
        "id": "Tjr7bcoP1ouz"
      },
      "execution_count": null,
      "outputs": []
    },
    {
      "cell_type": "markdown",
      "source": [
        "# Q12.Sort following number of elements in a list, calculate time taken and plot the graph."
      ],
      "metadata": {
        "id": "RpB98AEb2JoE"
      }
    },
    {
      "cell_type": "markdown",
      "source": [
        "50K Elements"
      ],
      "metadata": {
        "id": "loYqN6vY2OCk"
      }
    },
    {
      "cell_type": "code",
      "source": [
        "import random as r\n",
        "import timeit as t\n",
        "import matplotlib.pyplot as plt\n",
        "L=[0]\n",
        "for i in range(0,50000):\n",
        "  otp=r.randint(0,1000000)\n",
        "  L.append(int(otp))\n",
        "start=timeit.default_timer()\n",
        "L.sort()\n",
        "stop=timeit.default_timer()\n",
        "T1=stop-start\n",
        "print(\"T1=\",T1)"
      ],
      "metadata": {
        "id": "93bj5Gyn2I8r"
      },
      "execution_count": null,
      "outputs": []
    },
    {
      "cell_type": "markdown",
      "source": [
        "100K Elements"
      ],
      "metadata": {
        "id": "9V9Jkiq02SOJ"
      }
    },
    {
      "cell_type": "code",
      "source": [
        "import random as r\n",
        "import timeit as t\n",
        "L=[0]\n",
        "for i in range(0,100000):\n",
        "  otp=r.randint(0,1000000)\n",
        "  L.append(int(otp))\n",
        "start=timeit.default_timer()\n",
        "L.sort()\n",
        "stop=timeit.default_timer()\n",
        "T2=stop-start\n",
        "print(\"T2=\",T2)"
      ],
      "metadata": {
        "id": "PcoTBF9v2V6J"
      },
      "execution_count": null,
      "outputs": []
    },
    {
      "cell_type": "markdown",
      "source": [
        "150K Elements"
      ],
      "metadata": {
        "id": "3GBetxL32WsJ"
      }
    },
    {
      "cell_type": "code",
      "source": [
        "import random as r\n",
        "import timeit as t\n",
        "L=[0]\n",
        "for i in range(0,150000):\n",
        "  otp=r.randint(0,1000000)\n",
        "  L.append(int(otp))\n",
        "start=timeit.default_timer()\n",
        "L.sort()\n",
        "stop=timeit.default_timer()\n",
        "T3=stop-start\n",
        "print(\"T3=\",T3)"
      ],
      "metadata": {
        "id": "742B0hnr2bUd"
      },
      "execution_count": null,
      "outputs": []
    },
    {
      "cell_type": "markdown",
      "source": [
        "200K Elements"
      ],
      "metadata": {
        "id": "CHJvV65j2cLY"
      }
    },
    {
      "cell_type": "code",
      "source": [
        "import random as r\n",
        "import timeit as t\n",
        "L=[0]\n",
        "for i in range(0,200000):\n",
        "  otp=r.randint(0,1000000)\n",
        "  L.append(int(otp))\n",
        "start=timeit.default_timer()\n",
        "L.sort()\n",
        "stop=timeit.default_timer()\n",
        "T4=stop-start\n",
        "print(\"T4=\",T4)"
      ],
      "metadata": {
        "id": "07TZiJ4X2d2Y"
      },
      "execution_count": null,
      "outputs": []
    },
    {
      "cell_type": "markdown",
      "source": [
        "250K Elements"
      ],
      "metadata": {
        "id": "T1A3-4ih2g4H"
      }
    },
    {
      "cell_type": "code",
      "source": [
        "import random as r\n",
        "import timeit as t\n",
        "L=[0]\n",
        "for i in range(0,250000):\n",
        "  otp=r.randint(0,1000000)\n",
        "  L.append(int(otp))\n",
        "start=timeit.default_timer()\n",
        "L.sort()\n",
        "stop=timeit.default_timer()\n",
        "T5=stop-start\n",
        "print(\"T5=\",T5)"
      ],
      "metadata": {
        "id": "w0oMkS-l2jQI"
      },
      "execution_count": null,
      "outputs": []
    },
    {
      "cell_type": "markdown",
      "source": [
        "Graph"
      ],
      "metadata": {
        "id": "y0fnJga12leX"
      }
    },
    {
      "cell_type": "code",
      "source": [
        "x=[50000,100000,150000,200000,250000]\n",
        "y=[T1,T2,T3,T4,T5]\n",
        "plt.plot(x,y)\n",
        "plt.xlabel('No. of elements')\n",
        "plt.ylabel('Time taken')\n",
        "plt.show"
      ],
      "metadata": {
        "id": "nccHiDfk2mod"
      },
      "execution_count": null,
      "outputs": []
    }
  ]
}