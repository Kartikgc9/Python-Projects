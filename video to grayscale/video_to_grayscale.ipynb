{
  "cells": [
    {
      "cell_type": "markdown",
      "metadata": {
        "id": "view-in-github",
        "colab_type": "text"
      },
      "source": [
        "<a href=\"https://colab.research.google.com/github/Raghavgarg12/Mini-Projects/blob/main/video%20to%20grayscale/video_to_grayscale.ipynb\" target=\"_parent\"><img src=\"https://colab.research.google.com/assets/colab-badge.svg\" alt=\"Open In Colab\"/></a>"
      ]
    },
    {
      "cell_type": "code",
      "execution_count": null,
      "metadata": {
        "id": "_F92mXVuD8PR"
      },
      "outputs": [],
      "source": [
        "# importing the module\n",
        "import cv2"
      ]
    },
    {
      "cell_type": "code",
      "execution_count": null,
      "metadata": {
        "id": "IrCmN3bWEB8X"
      },
      "outputs": [],
      "source": [
        "import os\n",
        "from google.colab.patches import cv2_imshow"
      ]
    },
    {
      "cell_type": "code",
      "execution_count": null,
      "metadata": {
        "id": "utvwUxjXEG5d"
      },
      "outputs": [],
      "source": [
        "# reading the video\n",
        "source = cv2.VideoCapture('New video.mp4')"
      ]
    },
    {
      "cell_type": "code",
      "execution_count": null,
      "metadata": {
        "colab": {
          "background_save": true
        },
        "id": "ZSxl1xxbEK8E"
      },
      "outputs": [],
      "source": [
        "# running the loop\n",
        "count=0\n",
        "success=1\n",
        "while success:\n",
        "\n",
        "\t# extracting the frames\n",
        "\tsuccess, img = source.read()\n",
        " \n",
        "\tprint(success)\n",
        "\tif success==False:\n",
        "\t\tbreak\n",
        "\t# converting to gray-scale\n",
        "\tgray = cv2.cvtColor(img, cv2.COLOR_BGR2GRAY)\n",
        " \n",
        "\t# displaying the video\n",
        "\tcv2_imshow( gray)\n",
        " \n",
        "\t# Saves the frames with frame-count\n",
        "\tcv2.imwrite('/content/new/frame%d.jpg' % count,gray)\n",
        "\tcount+=1\n",
        "\tos.chdir('/content/new')\n",
        "\tpath='/content/new'\n",
        "\t# exiting the loop\n",
        "\t#key = cv2.waitKey(1)\n",
        "\t#if key == ord(\"q\"):\n",
        "\t\t#break\n",
        "\n",
        "# closing the window\n",
        "cv2.destroyAllWindows()\n"
      ]
    },
    {
      "cell_type": "code",
      "execution_count": null,
      "metadata": {
        "id": "6i0e0QMiD5e7"
      },
      "outputs": [],
      "source": [
        "os.chdir('/content/new')\n",
        "path='/content/new'\n",
        "video_name='grayvideo.mp4'\n",
        "os.chdir(\"/content/new\")\n",
        "images = [img for img in os.listdir(path)\n",
        "              if img.endswith(\".jpg\") or\n",
        "                 img.endswith(\".jpeg\") or\n",
        "                 img.endswith(\"png\")]\n",
        "frame = cv2.imread(os.path.join(path, images[0]))\n",
        "height, width, layers = frame.shape\n",
        "\n",
        "video = cv2.VideoWriter(video_name, 0, 1, (width, height))\n",
        "for image in images:\n",
        "   video.write(cv2.imread(os.path.join(path, image)))\n",
        "video.release()"
      ]
    }
  ],
  "metadata": {
    "colab": {
      "collapsed_sections": [],
      "name": "video to grayscale.ipynb",
      "provenance": [],
      "authorship_tag": "ABX9TyOnUFrMOkiLAgURuwEAe/IE",
      "include_colab_link": true
    },
    "kernelspec": {
      "display_name": "Python 3",
      "name": "python3"
    },
    "language_info": {
      "name": "python"
    }
  },
  "nbformat": 4,
  "nbformat_minor": 0
}